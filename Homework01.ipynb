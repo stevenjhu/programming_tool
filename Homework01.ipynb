{
 "cells": [
  {
   "cell_type": "markdown",
   "id": "36f30f11",
   "metadata": {},
   "source": [
    "## Assignment 01"
   ]
  },
  {
   "cell_type": "markdown",
   "id": "0010eb12",
   "metadata": {},
   "source": [
    "Create shell scripts to do the following:"
   ]
  },
  {
   "cell_type": "markdown",
   "id": "5cbcde63",
   "metadata": {},
   "source": [
    "**1.** Using the data file `\"assignment01data.csv\"`, create a new version of the data in a new file `assignment01data_v2.csv` that contains only the following columns: `customerID,gender,PhoneService,InternetService,StreamingTV,Contract,TotalCharges,Churn`"
   ]
  },
  {
   "cell_type": "code",
   "execution_count": null,
   "id": "b4603f50",
   "metadata": {},
   "outputs": [],
   "source": [
    "%%!\n",
    "# Write your code Here\n"
   ]
  },
  {
   "cell_type": "markdown",
   "id": "8aa2dc86",
   "metadata": {},
   "source": [
    "**2.** From the data file `\"assignment01data_v2.csv\"` Keep only those who have phoneService with StreamingTV (save result in a new file called `assignment01data_v3.csv`"
   ]
  },
  {
   "cell_type": "code",
   "execution_count": null,
   "id": "27d40589",
   "metadata": {},
   "outputs": [],
   "source": [
    "%%!\n",
    "# Write your code Here\n"
   ]
  },
  {
   "cell_type": "markdown",
   "id": "f959379e",
   "metadata": {},
   "source": [
    "**3.** Using the data file `\"assignment01data_v3.csv\"`, find the contract type that has the largest number clients"
   ]
  },
  {
   "cell_type": "code",
   "execution_count": null,
   "id": "bb1eea8e",
   "metadata": {},
   "outputs": [],
   "source": [
    "%%!\n",
    "# Write your code Here\n"
   ]
  },
  {
   "cell_type": "markdown",
   "id": "35f6970c",
   "metadata": {},
   "source": [
    "**4.** Using the data file `\"assignment01data_v3.csv\"`, Find the number of Female vs male in each contract type"
   ]
  },
  {
   "cell_type": "code",
   "execution_count": null,
   "id": "58fb0bfc",
   "metadata": {},
   "outputs": [],
   "source": [
    "%%!\n",
    "# Write your code Here\n"
   ]
  },
  {
   "cell_type": "markdown",
   "id": "a9cce987",
   "metadata": {},
   "source": [
    "**5.** Using the data file `\"assignment01data_v3.csv\"`, Create three separate files (one for each type of contracts):\n",
    "\n",
    "- `Month-to-month.csv` that contains only those with Month-to-month contract type\n",
    "- `Two year.csv` that contains only those with Two years contract type\n",
    "- `One year.csv` that contains only those with One year contract type"
   ]
  },
  {
   "cell_type": "code",
   "execution_count": null,
   "id": "77434c6c",
   "metadata": {
    "scrolled": true
   },
   "outputs": [],
   "source": [
    "%%!\n",
    "# Write your code Here\n"
   ]
  }
 ],
 "metadata": {
  "kernelspec": {
   "display_name": "Python 3",
   "language": "python",
   "name": "python3"
  },
  "language_info": {
   "codemirror_mode": {
    "name": "ipython",
    "version": 3
   },
   "file_extension": ".py",
   "mimetype": "text/x-python",
   "name": "python",
   "nbconvert_exporter": "python",
   "pygments_lexer": "ipython3",
   "version": "3.8.8"
  }
 },
 "nbformat": 4,
 "nbformat_minor": 5
}
